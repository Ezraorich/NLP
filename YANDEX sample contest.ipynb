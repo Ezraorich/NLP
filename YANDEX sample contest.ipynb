{
 "cells": [
  {
   "cell_type": "code",
   "execution_count": 2,
   "metadata": {},
   "outputs": [
    {
     "name": "stdout",
     "output_type": "stream",
     "text": [
      "43\n",
      "57\n",
      "100\n"
     ]
    }
   ],
   "source": [
    "A = int(input())\n",
    "B= int(input())\n",
    "print(A+B)"
   ]
  },
  {
   "cell_type": "code",
   "execution_count": 8,
   "metadata": {},
   "outputs": [
    {
     "name": "stdout",
     "output_type": "stream",
     "text": [
      "43 57\n",
      "100\n"
     ]
    }
   ],
   "source": [
    "A, B = input().split()\n",
    "print(int(A)+int(B))"
   ]
  },
  {
   "cell_type": "code",
   "execution_count": 23,
   "metadata": {},
   "outputs": [],
   "source": [
    "def main():\n",
    "    with open(\"C:/Users/Asus/Documents/DataSci/input.txt\") as f:\n",
    "        nums = f.read().split()\n",
    "\n",
    "    a, b = map(int, nums)\n",
    "    result = a + b\n",
    "\n",
    "    with open('output.txt', 'w') as f:\n",
    "        f.write(str(result))\n",
    "\n",
    "\n",
    "if __name__ == '__main__':\n",
    "    main()"
   ]
  },
  {
   "cell_type": "code",
   "execution_count": 18,
   "metadata": {},
   "outputs": [
    {
     "name": "stdout",
     "output_type": "stream",
     "text": [
      "575\n"
     ]
    }
   ],
   "source": [
    "f = open(\"C:/Users/Asus/Documents/DataSci/input.txt\")\n",
    "\n",
    "line = f.read()\n",
    "\n",
    "#line.split(\" \")\n",
    "\n",
    "#print (line.split(\",\"))\n",
    "\n",
    "total = sum([int(num) for num in line.split(' ')])\n",
    "\n",
    "print(total)\n",
    "#print(txt)"
   ]
  },
  {
   "cell_type": "code",
   "execution_count": 21,
   "metadata": {},
   "outputs": [
    {
     "name": "stdout",
     "output_type": "stream",
     "text": [
      "900\n"
     ]
    }
   ],
   "source": [
    "f = open(\"C:/Users/Asus/Documents/DataSci/input.txt\")\n",
    "\n",
    "line = f.read()\n",
    "\n",
    "#line.split(\" \")\n",
    "\n",
    "#print (line.split(\",\"))\n",
    "\n",
    "total = sum([int(num) for num in line.split(' ')])\n",
    "#print(total)\n",
    "out = open('output.txt','w')  # w : writing mode  /  r : reading mode  /  a  :  appending mode\n",
    "out.write('{}'.format(total))\n",
    "out.close()"
   ]
  },
  {
   "cell_type": "code",
   "execution_count": null,
   "metadata": {},
   "outputs": [],
   "source": [
    "f = open('output1.txt','w')  # w : writing mode  /  r : reading mode  /  a  :  appending mode\n",
    "f.write('{}'.format(result))\n",
    "f.close()"
   ]
  },
  {
   "cell_type": "code",
   "execution_count": 22,
   "metadata": {},
   "outputs": [
    {
     "data": {
      "text/plain": [
       "0.6666666666666666"
      ]
     },
     "execution_count": 22,
     "metadata": {},
     "output_type": "execute_result"
    }
   ],
   "source": [
    "2/3"
   ]
  },
  {
   "cell_type": "code",
   "execution_count": null,
   "metadata": {},
   "outputs": [],
   "source": []
  }
 ],
 "metadata": {
  "kernelspec": {
   "display_name": "Python 3",
   "language": "python",
   "name": "python3"
  },
  "language_info": {
   "codemirror_mode": {
    "name": "ipython",
    "version": 3
   },
   "file_extension": ".py",
   "mimetype": "text/x-python",
   "name": "python",
   "nbconvert_exporter": "python",
   "pygments_lexer": "ipython3",
   "version": "3.8.3"
  }
 },
 "nbformat": 4,
 "nbformat_minor": 4
}
