{
 "cells": [
  {
   "cell_type": "code",
   "execution_count": 3,
   "metadata": {},
   "outputs": [],
   "source": [
    "import numpy as np"
   ]
  },
  {
   "cell_type": "code",
   "execution_count": 8,
   "metadata": {},
   "outputs": [],
   "source": [
    "#5 Load the contents of the file into a list called readings. \n",
    "readings=np.loadtxt('C:/Users/Asus/Documents/NU SALTA/temp_records.txt')"
   ]
  },
  {
   "cell_type": "code",
   "execution_count": 9,
   "metadata": {},
   "outputs": [
    {
     "data": {
      "text/plain": [
       "array([33., 81., 51., 14., 68., 12., 84., 78., 51., 77., 13., 68., 56.,\n",
       "        6., 29.,  6., 77., 19., 42., 31., 92.,  8., 35., 66., 18., 40.,\n",
       "       59., 85., 70., 94., 73., 13., 13., 88., 97., 89., 81., 66., 14.,\n",
       "       48., 98., 81., 58., 98., 21., 71., 78., 92., 72., 13., 45., 77.,\n",
       "       50., 85., 31., 14., 36., 79., 69., 71., 97., 57., 14., 70., 63.,\n",
       "       50., 40., 65., 82., 95., 63., 47., 14., 31., 67., 83.,  1.,  6.,\n",
       "       87., 88., 77., 96., 30., 49., 92., 30., 85.,  7., 89., 33., 85.,\n",
       "       68., 17., 81., 14., 48., 46., 64., 69., 10.])"
      ]
     },
     "execution_count": 9,
     "metadata": {},
     "output_type": "execute_result"
    }
   ],
   "source": [
    "readings"
   ]
  },
  {
   "cell_type": "code",
   "execution_count": 65,
   "metadata": {},
   "outputs": [
    {
     "data": {
      "text/plain": [
       "54.94"
      ]
     },
     "execution_count": 65,
     "metadata": {},
     "output_type": "execute_result"
    }
   ],
   "source": [
    "#Calculate the average value\n",
    "mean=readings.mean()\n",
    "mean"
   ]
  },
  {
   "cell_type": "code",
   "execution_count": 66,
   "metadata": {},
   "outputs": [
    {
     "data": {
      "text/plain": [
       "(array([40, 43], dtype=int64),)"
      ]
     },
     "execution_count": 66,
     "metadata": {},
     "output_type": "execute_result"
    }
   ],
   "source": [
    "# Find the location of the largest element. \n",
    "arr=readings.astype(int)\n",
    "arr\n",
    "max_array=np.max(arr)\n",
    "max_index=np.where(arr==max_array)\n",
    "max_index\n"
   ]
  },
  {
   "cell_type": "code",
   "execution_count": 64,
   "metadata": {},
   "outputs": [
    {
     "name": "stdout",
     "output_type": "stream",
     "text": [
      "76\n"
     ]
    }
   ],
   "source": [
    "# Find the location of the smallest element\n",
    "minim= arr[0]\n",
    "min_index=0\n",
    "for x in range(len(arr)):\n",
    "    if arr[x]<minim:\n",
    "        minim=arr[x]\n",
    "        min_index=x\n",
    "print(min_index)\n"
   ]
  },
  {
   "cell_type": "code",
   "execution_count": 69,
   "metadata": {},
   "outputs": [
    {
     "name": "stdout",
     "output_type": "stream",
     "text": [
      "Average value= 54.94\n",
      "MAX value= 98 MAX index= [(array([40, 43], dtype=int64),)]\n",
      "MIN value= 1 MIN index= 76\n"
     ]
    }
   ],
   "source": [
    "# Print the average value, the location and value of the smallest \n",
    "# element, and the location and value \n",
    "# of the largest element\n",
    "print('Average value=', mean)\n",
    "print('MAX value=',max_array, 'MAX index=', max_index)\n",
    "print('MIN value=',minim,'MIN index=',min_index)"
   ]
  },
  {
   "cell_type": "code",
   "execution_count": 77,
   "metadata": {},
   "outputs": [],
   "source": [
    "sensor1=np.loadtxt('C:/Users/Asus/Documents/NU SALTA/arctic_ice_extent_s1.txt',dtype=int, delimiter=',')"
   ]
  },
  {
   "cell_type": "code",
   "execution_count": 78,
   "metadata": {},
   "outputs": [
    {
     "data": {
      "text/plain": [
       "array([13142332, 13213231,    -9999, 13394164, 13493198, 13571020,\n",
       "       13621914, 13634360, 13607670, 13605515, 13663599, 13738147,\n",
       "       13766935, 13831765, 13892192, 13947914, 14012307, 14089471,\n",
       "       14167368, 14228061, 14231637, 14097847,    -9999, 13976739,\n",
       "       14012402, 14048109, 14162289, 14226604, 14225673, 14239566,\n",
       "          -9999])"
      ]
     },
     "execution_count": 78,
     "metadata": {},
     "output_type": "execute_result"
    }
   ],
   "source": [
    "sensor1"
   ]
  },
  {
   "cell_type": "code",
   "execution_count": null,
   "metadata": {},
   "outputs": [],
   "source": [
    "sensor2="
   ]
  }
 ],
 "metadata": {
  "kernelspec": {
   "display_name": "Python 3",
   "language": "python",
   "name": "python3"
  },
  "language_info": {
   "codemirror_mode": {
    "name": "ipython",
    "version": 3
   },
   "file_extension": ".py",
   "mimetype": "text/x-python",
   "name": "python",
   "nbconvert_exporter": "python",
   "pygments_lexer": "ipython3",
   "version": "3.8.3"
  }
 },
 "nbformat": 4,
 "nbformat_minor": 4
}
