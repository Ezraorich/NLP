{
 "cells": [
  {
   "cell_type": "code",
   "execution_count": 3,
   "metadata": {},
   "outputs": [],
   "source": [
    "import numpy as np"
   ]
  },
  {
   "cell_type": "code",
   "execution_count": 8,
   "metadata": {},
   "outputs": [],
   "source": [
    "#5 Load the contents of the file into a list called readings. \n",
    "readings=np.loadtxt('C:/filepath.txt')"
   ]
  },
  {
   "cell_type": "code",
   "execution_count": 9,
   "metadata": {},
   "outputs": [
    {
     "data": {
      "text/plain": [
       "array([33., 81., 51., 14., 68., 12., 84., 78., 51., 77., 13., 68., 56.,\n",
       "        6., 29.,  6., 77., 19., 42., 31., 92.,  8., 35., 66., 18., 40.,\n",
       "       59., 85., 70., 94., 73., 13., 13., 88., 97., 89., 81., 66., 14.,\n",
       "       48., 98., 81., 58., 98., 21., 71., 78., 92., 72., 13., 45., 77.,\n",
       "       50., 85., 31., 14., 36., 79., 69., 71., 97., 57., 14., 70., 63.,\n",
       "       50., 40., 65., 82., 95., 63., 47., 14., 31., 67., 83.,  1.,  6.,\n",
       "       87., 88., 77., 96., 30., 49., 92., 30., 85.,  7., 89., 33., 85.,\n",
       "       68., 17., 81., 14., 48., 46., 64., 69., 10.])"
      ]
     },
     "execution_count": 9,
     "metadata": {},
     "output_type": "execute_result"
    }
   ],
   "source": [
    "readings"
   ]
  },
  {
   "cell_type": "code",
   "execution_count": 65,
   "metadata": {},
   "outputs": [
    {
     "data": {
      "text/plain": [
       "54.94"
      ]
     },
     "execution_count": 65,
     "metadata": {},
     "output_type": "execute_result"
    }
   ],
   "source": [
    "#Calculate the average value\n",
    "mean=readings.mean()\n",
    "mean"
   ]
  },
  {
   "cell_type": "code",
   "execution_count": 66,
   "metadata": {},
   "outputs": [
    {
     "data": {
      "text/plain": [
       "(array([40, 43], dtype=int64),)"
      ]
     },
     "execution_count": 66,
     "metadata": {},
     "output_type": "execute_result"
    }
   ],
   "source": [
    "# Find the location of the largest element. \n",
    "arr=readings.astype(int)\n",
    "arr\n",
    "max_array=np.max(arr)\n",
    "max_index=np.where(arr==max_array)\n",
    "max_index\n"
   ]
  },
  {
   "cell_type": "code",
   "execution_count": 64,
   "metadata": {},
   "outputs": [
    {
     "name": "stdout",
     "output_type": "stream",
     "text": [
      "76\n"
     ]
    }
   ],
   "source": [
    "# Find the location of the smallest element\n",
    "minim= arr[0]\n",
    "min_index=0\n",
    "for x in range(len(arr)):\n",
    "    if arr[x]<minim:\n",
    "        minim=arr[x]\n",
    "        min_index=x\n",
    "print(min_index)\n"
   ]
  },
  {
   "cell_type": "code",
   "execution_count": 69,
   "metadata": {},
   "outputs": [
    {
     "name": "stdout",
     "output_type": "stream",
     "text": [
      "Average value= 54.94\n",
      "MAX value= 98 MAX index= [(array([40, 43], dtype=int64),)]\n",
      "MIN value= 1 MIN index= 76\n"
     ]
    }
   ],
   "source": [
    "# Print the average value, the location and value of the smallest \n",
    "# element, and the location and value \n",
    "# of the largest element\n",
    "print('Average value=', mean)\n",
    "print('MAX value=',max_array, 'MAX index=', max_index)\n",
    "print('MIN value=',minim,'MIN index=',min_index)"
   ]
  },
  {
   "cell_type": "code",
   "execution_count": 138,
   "metadata": {},
   "outputs": [],
   "source": [
    "sensor1=np.loadtxt('C:/Users/Asus/Documents/NU SALTA/arctic_ice_extent_s1.txt',dtype=float, delimiter=',')"
   ]
  },
  {
   "cell_type": "code",
   "execution_count": 139,
   "metadata": {},
   "outputs": [
    {
     "data": {
      "text/plain": [
       "array([ 1.3142332e+07,  1.3213231e+07, -9.9990000e+03,  1.3394164e+07,\n",
       "        1.3493198e+07,  1.3571020e+07,  1.3621914e+07,  1.3634360e+07,\n",
       "        1.3607670e+07,  1.3605515e+07,  1.3663599e+07,  1.3738147e+07,\n",
       "        1.3766935e+07,  1.3831765e+07,  1.3892192e+07,  1.3947914e+07,\n",
       "        1.4012307e+07,  1.4089471e+07,  1.4167368e+07,  1.4228061e+07,\n",
       "        1.4231637e+07,  1.4097847e+07, -9.9990000e+03,  1.3976739e+07,\n",
       "        1.4012402e+07,  1.4048109e+07,  1.4162289e+07,  1.4226604e+07,\n",
       "        1.4225673e+07,  1.4239566e+07, -9.9990000e+03])"
      ]
     },
     "execution_count": 139,
     "metadata": {},
     "output_type": "execute_result"
    }
   ],
   "source": [
    "sensor1"
   ]
  },
  {
   "cell_type": "code",
   "execution_count": 140,
   "metadata": {},
   "outputs": [
    {
     "name": "stdout",
     "output_type": "stream",
     "text": [
      "[13142332.  13213231.  13303697.5 13394164.  13493198.  13571020.\n",
      " 13621914.  13634360.  13607670.  13605515.  13663599.  13738147.\n",
      " 13766935.  13831765.  13892192.  13947914.  14012307.  14089471.\n",
      " 14167368.  14228061.  14231637.  14097847.  14037293.  13976739.\n",
      " 14012402.  14048109.  14162289.  14226604.  14225673.  14239566.\n",
      " 14239566. ]\n"
     ]
    }
   ],
   "source": [
    "for i in range(len(sensor1)):\n",
    "    if sensor1[i]==-9999:\n",
    "        if i==0:\n",
    "            sensor1[i]=sensor1[i+1]\n",
    "        if i==30:\n",
    "            sensor1[i]=sensor1[i-1]\n",
    "        else:\n",
    "            sensor1[i]=(sensor1[i+1]+sensor1[i-1])/2\n",
    "print(sensor1)"
   ]
  },
  {
   "cell_type": "code",
   "execution_count": 141,
   "metadata": {},
   "outputs": [],
   "source": [
    "sensor2=np.loadtxt('C:/Users/Asus/Documents/NU SALTA/arctic_ice_extent_s2.txt',dtype=float, delimiter=',')"
   ]
  },
  {
   "cell_type": "code",
   "execution_count": 142,
   "metadata": {},
   "outputs": [
    {
     "data": {
      "text/plain": [
       "array([-9.9990000e+03,  1.2624615e+07,  1.2697433e+07,  1.2825798e+07,\n",
       "        1.2872165e+07,  1.2887212e+07,  1.2876476e+07,  1.2881031e+07,\n",
       "        1.2919327e+07, -9.9990000e+03,  1.2989292e+07,  1.2991851e+07,\n",
       "        1.3015855e+07,  1.3035372e+07,  1.3078301e+07,  1.3161695e+07,\n",
       "       -9.9990000e+03,  1.3226354e+07,  1.3213065e+07,  1.3232993e+07,\n",
       "        1.3224620e+07,  1.3209681e+07,  1.3282190e+07,  1.3369193e+07,\n",
       "        1.3412883e+07,  1.3407837e+07,  1.3397772e+07,  1.3443599e+07,\n",
       "        1.3543139e+07, -9.9990000e+03,  1.3561315e+07])"
      ]
     },
     "execution_count": 142,
     "metadata": {},
     "output_type": "execute_result"
    }
   ],
   "source": [
    "sensor2"
   ]
  },
  {
   "cell_type": "code",
   "execution_count": 143,
   "metadata": {},
   "outputs": [
    {
     "name": "stdout",
     "output_type": "stream",
     "text": [
      "[13092965.  12624615.  12697433.  12825798.  12872165.  12887212.\n",
      " 12876476.  12881031.  12919327.  12954309.5 12989292.  12991851.\n",
      " 13015855.  13035372.  13078301.  13161695.  13194024.5 13226354.\n",
      " 13213065.  13232993.  13224620.  13209681.  13282190.  13369193.\n",
      " 13412883.  13407837.  13397772.  13443599.  13543139.  13552227.\n",
      " 13561315. ]\n"
     ]
    }
   ],
   "source": [
    "for i in range(len(sensor2)):\n",
    "    if sensor2[i]==-9999:\n",
    "        if i==0:\n",
    "            sensor2[i]=sensor2[i+1]\n",
    "        if i==30:\n",
    "            sensor2[i]=sensor2[i-1]\n",
    "        else:\n",
    "            sensor2[i]=(sensor2[i+1]+sensor2[i-1])/2\n",
    "print(sensor2)"
   ]
  },
  {
   "cell_type": "code",
   "execution_count": 144,
   "metadata": {},
   "outputs": [
    {
     "data": {
      "text/plain": [
       "array([13117648.5 , 12918923.  , 13000565.25, 13109981.  , 13182681.5 ,\n",
       "       13229116.  , 13249195.  , 13257695.5 , 13263498.5 , 13279912.25,\n",
       "       13326445.5 , 13364999.  , 13391395.  , 13433568.5 , 13485246.5 ,\n",
       "       13554804.5 , 13603165.75, 13657912.5 , 13690216.5 , 13730527.  ,\n",
       "       13728128.5 , 13653764.  , 13659741.5 , 13672966.  , 13712642.5 ,\n",
       "       13727973.  , 13780030.5 , 13835101.5 , 13884406.  , 13895896.5 ,\n",
       "       13900440.5 ])"
      ]
     },
     "execution_count": 144,
     "metadata": {},
     "output_type": "execute_result"
    }
   ],
   "source": [
    "(sensor1+sensor2)/2"
   ]
  },
  {
   "cell_type": "code",
   "execution_count": 135,
   "metadata": {},
   "outputs": [],
   "source": [
    "sensor_diff= sensor1-sensor2"
   ]
  },
  {
   "cell_type": "code",
   "execution_count": 136,
   "metadata": {},
   "outputs": [
    {
     "data": {
      "text/plain": [
       "array([  49367,  588616,  606264,  568366,  621033,  683808,  745438,\n",
       "        753329,  688343,  651206,  674307,  746296,  751080,  796393,\n",
       "        813891,  786219,  818283,  863117,  954303,  995068, 1007017,\n",
       "        888166,  755103,  607546,  599519,  640272,  764517,  783005,\n",
       "        682534,  687339,  678251])"
      ]
     },
     "execution_count": 136,
     "metadata": {},
     "output_type": "execute_result"
    }
   ],
   "source": [
    "sensor_diff"
   ]
  },
  {
   "cell_type": "code",
   "execution_count": null,
   "metadata": {},
   "outputs": [],
   "source": [
    "(sensor1**2+sensor2**2)/2"
   ]
  },
  {
   "cell_type": "code",
   "execution_count": 146,
   "metadata": {},
   "outputs": [],
   "source": [
    "avgr=sensor1.mean()"
   ]
  },
  {
   "cell_type": "code",
   "execution_count": 149,
   "metadata": {},
   "outputs": [],
   "source": [
    "diff=sensor1-avgr"
   ]
  },
  {
   "cell_type": "code",
   "execution_count": 151,
   "metadata": {},
   "outputs": [],
   "source": [
    "vari=(diff**2)/31"
   ]
  },
  {
   "cell_type": "code",
   "execution_count": 154,
   "metadata": {},
   "outputs": [
    {
     "data": {
      "text/plain": [
       "16261724009.135008"
      ]
     },
     "execution_count": 154,
     "metadata": {},
     "output_type": "execute_result"
    }
   ],
   "source": [
    "vari.max()"
   ]
  },
  {
   "cell_type": "code",
   "execution_count": 155,
   "metadata": {},
   "outputs": [
    {
     "data": {
      "text/plain": [
       "(array([0], dtype=int64),)"
      ]
     },
     "execution_count": 155,
     "metadata": {},
     "output_type": "execute_result"
    }
   ],
   "source": [
    "np.where(vari.max())"
   ]
  },
  {
   "cell_type": "code",
   "execution_count": null,
   "metadata": {},
   "outputs": [],
   "source": []
  }
 ],
 "metadata": {
  "kernelspec": {
   "display_name": "Python 3",
   "language": "python",
   "name": "python3"
  },
  "language_info": {
   "codemirror_mode": {
    "name": "ipython",
    "version": 3
   },
   "file_extension": ".py",
   "mimetype": "text/x-python",
   "name": "python",
   "nbconvert_exporter": "python",
   "pygments_lexer": "ipython3",
   "version": "3.8.3"
  }
 },
 "nbformat": 4,
 "nbformat_minor": 4
}
